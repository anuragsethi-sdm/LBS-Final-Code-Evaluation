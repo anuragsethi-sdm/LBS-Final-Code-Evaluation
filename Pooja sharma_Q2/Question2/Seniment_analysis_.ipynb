{
 "cells": [
  {
   "cell_type": "code",
   "execution_count": 4,
   "id": "081fb284-19d2-4756-a2b5-0c412dfcd3f0",
   "metadata": {},
   "outputs": [],
   "source": [
    "#codecs providers access to the internal Python codec registy\n",
    "import codecs\n",
    "from deep_translator import GoogleTranslator\n",
    "from vaderSentiment.vaderSentiment import SentimentIntensityAnalyzer"
   ]
  },
  {
   "cell_type": "code",
   "execution_count": 6,
   "id": "6a27d613-7659-4fd0-9453-68e364f85c04",
   "metadata": {},
   "outputs": [],
   "source": [
    "with codecs.open ('SampleHindiText.txt',encoding = 'utf-8') as f:\n",
    "    sentences = f.readlines()"
   ]
  },
  {
   "cell_type": "code",
   "execution_count": 7,
   "id": "5b384ca5-e334-4677-a62d-d797356e0ab2",
   "metadata": {},
   "outputs": [
    {
     "name": "stdout",
     "output_type": "stream",
     "text": [
      "\n",
      "Translated Sentence= Truth is the victory \n",
      "Dictionary= {'neg': 0.0, 'neu': 0.566, 'pos': 0.434, 'compound': 0.3182}\n",
      "it is positive\n",
      "\n",
      "Translated Sentence= Knowledge makes a person humble \n",
      "Dictionary= {'neg': 0.0, 'neu': 1.0, 'pos': 0.0, 'compound': 0.0}\n",
      "it is negative\n",
      "\n",
      "Translated Sentence= Labor is victorious \n",
      "Dictionary= {'neg': 0.0, 'neu': 1.0, 'pos': 0.0, 'compound': 0.0}\n",
      "it is negative\n",
      "\n",
      "Translated Sentence= Do deeds, don't worry about fruit \n",
      "Dictionary= {'neg': 0.0, 'neu': 0.675, 'pos': 0.325, 'compound': 0.3412}\n",
      "it is positive\n",
      "\n",
      "Translated Sentence= The journey to Goa was very good. \n",
      "Dictionary= {'neg': 0.0, 'neu': 0.653, 'pos': 0.347, 'compound': 0.4927}\n",
      "it is positive\n",
      "\n",
      "Translated Sentence= The beaches were very hot. \n",
      "Dictionary= {'neg': 0.0, 'neu': 1.0, 'pos': 0.0, 'compound': 0.0}\n",
      "it is negative\n",
      "\n",
      "Translated Sentence= I enjoyed playing on the beach. \n",
      "Dictionary= {'neg': 0.0, 'neu': 0.44, 'pos': 0.56, 'compound': 0.6249}\n",
      "it is positive\n",
      "\n",
      "Translated Sentence= My daughter was very angry. \n",
      "Dictionary= {'neg': 0.473, 'neu': 0.527, 'pos': 0.0, 'compound': -0.5563}\n",
      "it is negative\n",
      "it is natural\n"
     ]
    }
   ],
   "source": [
    "for sentence in sentences:\n",
    "    translated_text = GoogleTranslator(source='auto', target='en').translate(sentence)\n",
    "    analyzer = SentimentIntensityAnalyzer()\n",
    "    sentiment_dict = analyzer.polarity_scores(translated_text)\n",
    "    print(\"\\nTranslated Sentence=\",translated_text,\"\\nDictionary=\",sentiment_dict)\n",
    "    if sentiment_dict['compound']>= 0.05 :\n",
    "        print(\"it is positive\")\n",
    "    if sentiment_dict['compound']<= 0.05 :\n",
    "        print(\"it is negative\")\n",
    "    if sentiment_dict['compound'] <= -0.05 :\n",
    "        print(\"it is natural\")\n",
    "\n",
    "\n",
    "\n",
    "\n",
    "        "
   ]
  },
  {
   "cell_type": "code",
   "execution_count": null,
   "id": "5a692e28-736c-4b56-9418-261877708849",
   "metadata": {},
   "outputs": [],
   "source": []
  }
 ],
 "metadata": {
  "kernelspec": {
   "display_name": "Python 3 (ipykernel)",
   "language": "python",
   "name": "python3"
  },
  "language_info": {
   "codemirror_mode": {
    "name": "ipython",
    "version": 3
   },
   "file_extension": ".py",
   "mimetype": "text/x-python",
   "name": "python",
   "nbconvert_exporter": "python",
   "pygments_lexer": "ipython3",
   "version": "3.11.0"
  }
 },
 "nbformat": 4,
 "nbformat_minor": 5
}
